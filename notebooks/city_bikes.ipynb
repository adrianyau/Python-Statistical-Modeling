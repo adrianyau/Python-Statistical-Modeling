{
 "cells": [
  {
   "cell_type": "markdown",
   "metadata": {},
   "source": [
    "# CityBikes"
   ]
  },
  {
   "cell_type": "markdown",
   "metadata": {},
   "source": [
    "Send a request to CityBikes for the city of your choice. "
   ]
  },
  {
   "cell_type": "code",
   "execution_count": 2,
   "metadata": {},
   "outputs": [],
   "source": [
    "import requests\n",
    "import pandas as pd\n",
    "\n",
    "#Get results from CitiBikes URL:\n",
    "url = \"http://api.citybik.es/v2/networks/\"\n",
    "response = requests.get(url)\n",
    "data = response.json()\n",
    "\n",
    "#Filter results by Vancouver, Canada and store in list.\n",
    "vancouver_network = []\n",
    "for network in data['networks']:\n",
    "    if network['location']['city'] == 'Vancouver' and network['location']['country'] == 'CA':\n",
    "        vancouver_network = network\n",
    "    else:\n",
    "        False"
   ]
  },
  {
   "cell_type": "markdown",
   "metadata": {},
   "source": [
    "Parse through the response to get the details you want for the bike stations in that city (latitude, longitude, number of bikes). "
   ]
  },
  {
   "cell_type": "code",
   "execution_count": 3,
   "metadata": {},
   "outputs": [],
   "source": [
    "#Pass list in URL with 'Vancouver Network ID' to get bike stations in Vancouver, Canada.\n",
    "vancouver_network_id = vancouver_network['id']\n",
    "vancouver_network_url = f\"http://api.citybik.es/v2/networks/{vancouver_network_id}\"\n",
    "response_vancouver = requests.get(vancouver_network_url)\n",
    "data_vancouver = response_vancouver.json()\n",
    "\n",
    "vancouver_bike_stations = data_vancouver['network']['stations']"
   ]
  },
  {
   "cell_type": "markdown",
   "metadata": {},
   "source": [
    "Put your parsed results into a DataFrame."
   ]
  },
  {
   "cell_type": "code",
   "execution_count": 5,
   "metadata": {},
   "outputs": [
    {
     "data": {
      "text/html": [
       "<div>\n",
       "<style scoped>\n",
       "    .dataframe tbody tr th:only-of-type {\n",
       "        vertical-align: middle;\n",
       "    }\n",
       "\n",
       "    .dataframe tbody tr th {\n",
       "        vertical-align: top;\n",
       "    }\n",
       "\n",
       "    .dataframe thead th {\n",
       "        text-align: right;\n",
       "    }\n",
       "</style>\n",
       "<table border=\"1\" class=\"dataframe\">\n",
       "  <thead>\n",
       "    <tr style=\"text-align: right;\">\n",
       "      <th></th>\n",
       "      <th>empty_slots</th>\n",
       "      <th>free_bikes</th>\n",
       "      <th>citibike_id</th>\n",
       "      <th>latitude</th>\n",
       "      <th>longitude</th>\n",
       "      <th>citibike_station</th>\n",
       "    </tr>\n",
       "  </thead>\n",
       "  <tbody>\n",
       "    <tr>\n",
       "      <th>0</th>\n",
       "      <td>36</td>\n",
       "      <td>0</td>\n",
       "      <td>7a19c49f486d7c0c02b3685d7b240448</td>\n",
       "      <td>49.262487</td>\n",
       "      <td>-123.114397</td>\n",
       "      <td>10th &amp; Cambie</td>\n",
       "    </tr>\n",
       "    <tr>\n",
       "      <th>1</th>\n",
       "      <td>0</td>\n",
       "      <td>15</td>\n",
       "      <td>32603a87cfca71d0f7dfa3513bad69d5</td>\n",
       "      <td>49.274566</td>\n",
       "      <td>-123.121817</td>\n",
       "      <td>Yaletown-Roundhouse Station</td>\n",
       "    </tr>\n",
       "    <tr>\n",
       "      <th>2</th>\n",
       "      <td>22</td>\n",
       "      <td>3</td>\n",
       "      <td>6d42fa40360f9a6b2bf641c7b8bb2862</td>\n",
       "      <td>49.279764</td>\n",
       "      <td>-123.110154</td>\n",
       "      <td>Dunsmuir &amp; Beatty</td>\n",
       "    </tr>\n",
       "    <tr>\n",
       "      <th>3</th>\n",
       "      <td>16</td>\n",
       "      <td>0</td>\n",
       "      <td>66f873d641d448bd1572ab086665a458</td>\n",
       "      <td>49.260599</td>\n",
       "      <td>-123.113504</td>\n",
       "      <td>12th &amp; Yukon (City Hall)</td>\n",
       "    </tr>\n",
       "    <tr>\n",
       "      <th>4</th>\n",
       "      <td>8</td>\n",
       "      <td>8</td>\n",
       "      <td>485d4d24c803cfde829ab89699fed833</td>\n",
       "      <td>49.264215</td>\n",
       "      <td>-123.117772</td>\n",
       "      <td>8th &amp; Ash</td>\n",
       "    </tr>\n",
       "  </tbody>\n",
       "</table>\n",
       "</div>"
      ],
      "text/plain": [
       "   empty_slots  free_bikes                       citibike_id   latitude  \\\n",
       "0           36           0  7a19c49f486d7c0c02b3685d7b240448  49.262487   \n",
       "1            0          15  32603a87cfca71d0f7dfa3513bad69d5  49.274566   \n",
       "2           22           3  6d42fa40360f9a6b2bf641c7b8bb2862  49.279764   \n",
       "3           16           0  66f873d641d448bd1572ab086665a458  49.260599   \n",
       "4            8           8  485d4d24c803cfde829ab89699fed833  49.264215   \n",
       "\n",
       "    longitude             citibike_station  \n",
       "0 -123.114397                10th & Cambie  \n",
       "1 -123.121817  Yaletown-Roundhouse Station  \n",
       "2 -123.110154            Dunsmuir & Beatty  \n",
       "3 -123.113504     12th & Yukon (City Hall)  \n",
       "4 -123.117772                    8th & Ash  "
      ]
     },
     "execution_count": 5,
     "metadata": {},
     "output_type": "execute_result"
    }
   ],
   "source": [
    "#Parse results into a DataFrame with columns dropped and renamed to be saved as a .csv file.\n",
    "\n",
    "df = pd.DataFrame(vancouver_bike_stations)\n",
    "\n",
    "df1 = df.drop(columns=['extra', 'timestamp'])\n",
    "\n",
    "vancouver_citibikes = df1.rename(columns={\n",
    "    'name': 'citibike_station',\n",
    "    'id': 'citibike_id'\n",
    "    }\n",
    ")\n",
    "\n",
    "vancouver_citibikes.head(5)\n",
    "\n",
    "# Save As: .csv file - vancouver_citibikes.to_csv('vancouver_citibike_stations.csv')"
   ]
  },
  {
   "cell_type": "code",
   "execution_count": null,
   "metadata": {},
   "outputs": [],
   "source": []
  }
 ],
 "metadata": {
  "kernelspec": {
   "display_name": "Python 3 (ipykernel)",
   "language": "python",
   "name": "python3"
  },
  "language_info": {
   "codemirror_mode": {
    "name": "ipython",
    "version": 3
   },
   "file_extension": ".py",
   "mimetype": "text/x-python",
   "name": "python",
   "nbconvert_exporter": "python",
   "pygments_lexer": "ipython3",
   "version": "3.11.7"
  }
 },
 "nbformat": 4,
 "nbformat_minor": 4
}
