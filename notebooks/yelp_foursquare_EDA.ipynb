{
 "cells": [
  {
   "cell_type": "markdown",
   "metadata": {},
   "source": [
    "# Foursquare"
   ]
  },
  {
   "cell_type": "markdown",
   "metadata": {},
   "source": [
    "Send a request to Foursquare with a small radius (1000m) for all the bike stations in your city of choice. "
   ]
  },
  {
   "cell_type": "code",
   "execution_count": 13,
   "metadata": {},
   "outputs": [],
   "source": [
    "import os\n",
    "import requests\n",
    "import pandas as pd\n",
    "\n",
    "#Import CitiBike.csv.\n",
    "df = pd.read_csv(\"../data/vancouver_citibike_stations.csv\")\n",
    "\n",
    "citibike_ids = [] #Stored and used as a variable to join DataFrames.\n",
    "\n",
    "#Loop to pass CitiBike coordinates to Foursquare URL.\n",
    "for index, row in df.iterrows():\n",
    "    lat = row['latitude']\n",
    "    long = row['longitude']\n",
    "    bikeid = row['citibike_id']\n",
    "    citibike_ids.append(bikeid)\n",
    "\n",
    "df_citibike_id = pd.DataFrame({'citibike_id': citibike_ids})\n",
    "\n",
    "#Foursquare API key in an environment variable.\n",
    "fsq_api_key = os.getenv(\"FOURSQUARE_API_KEY\")\n",
    "\n",
    "#Function to pass information to Foursquare API:\n",
    "def get_venues_fsq(latitude, longitude, radius, api_key):\n",
    "    url = f\"https://api.foursquare.com/v3/places/search?ll={latitude},{longitude}&radius={radius}\"\n",
    "    headers = {\"Accept\": \"application/json\", \"Authorization\": fsq_api_key}\n",
    "    response = requests.get(url, headers=headers)\n",
    "    return response\n",
    "\n",
    "#Get results for locations in Vancouver.\n",
    "vancouver_location = get_venues_fsq(\n",
    "    latitude = lat,\n",
    "    longitude = long,\n",
    "    radius = 1000,\n",
    "    api_key = fsq_api_key\n",
    ")\n",
    "\n",
    "data = vancouver_location.json()"
   ]
  },
  {
   "cell_type": "markdown",
   "metadata": {},
   "source": [
    "Parse through the response to get the POI (such as restaurants, bars, etc) details you want (ratings, name, location, etc)"
   ]
  },
  {
   "cell_type": "code",
   "execution_count": null,
   "metadata": {},
   "outputs": [],
   "source": [
    "#Columns were cleaned by dropping irrelevant columns and renaming column names.\n",
    "vancouver_fsq = pd.json_normalize(data['results'])\n",
    "\n",
    "vancouver_fsq_col = vancouver_fsq[['fsq_id', 'distance', 'name', 'geocodes.main.latitude', 'geocodes.main.longitude', 'location.formatted_address', 'location.locality','location.region','location.postcode']]\n",
    "\n",
    "vancouver_fsq_rename_col = vancouver_fsq_col.rename(columns={\n",
    "    'name': 'fsq_name',\n",
    "    'distance': 'fsq_distance',\n",
    "    'geocodes.main.latitude': 'latitude',\n",
    "    'geocodes.main.longitude': 'longitude',\n",
    "    'location.formatted_address': 'fsq_address',\n",
    "    'location.locality': 'fsq_city',\n",
    "    'location.region': 'fsq_province',\n",
    "    'location.postcode': 'fsq_postalcode'\n",
    "    }\n",
    ")\n",
    "\n",
    "vancouver_fsq_rename_col['citibike_id'] = df_citibike_id['citibike_id']\n"
   ]
  },
  {
   "cell_type": "markdown",
   "metadata": {},
   "source": [
    "Put your parsed results into a DataFrame"
   ]
  },
  {
   "cell_type": "code",
   "execution_count": null,
   "metadata": {},
   "outputs": [],
   "source": [
    "vancouver_fsq_rename_col\n",
    "\n",
    "#Save As .csv file - vancouver_fsq_rename_col.to_csv(\"../data/vancouver_fsq_locations.csv\")"
   ]
  },
  {
   "cell_type": "code",
   "execution_count": null,
   "metadata": {},
   "outputs": [],
   "source": []
  },
  {
   "cell_type": "markdown",
   "metadata": {},
   "source": [
    "# Yelp"
   ]
  },
  {
   "cell_type": "markdown",
   "metadata": {},
   "source": [
    "Send a request to Yelp with a small radius (1000m) for all the bike stations in your city of choice. "
   ]
  },
  {
   "cell_type": "code",
   "execution_count": 14,
   "metadata": {},
   "outputs": [],
   "source": [
    "import requests\n",
    "import os\n",
    "import pandas as pd\n",
    "\n",
    "#Import CitiBike.csv.\n",
    "df = pd.read_csv(\"../data/vancouver_citibike_stations.csv\")\n",
    "\n",
    "citibike_ids = [] #Stored and used as a variable to join DataFrames.\n",
    "\n",
    "#Loop to pass CitiBike coordinates to Yelp URL.\n",
    "for index, row in df.iterrows():\n",
    "    lat = row['latitude']\n",
    "    long = row['longitude']\n",
    "    bikeid = row['citibike_id']\n",
    "    citibike_ids.append(bikeid)\n",
    "\n",
    "df_citibike_id = pd.DataFrame({'citibike_id': citibike_ids})\n",
    "\n",
    "#Yelp API key in an environment variable.\n",
    "yelp_api_key = os.getenv(\"YELP_API_KEY\")\n",
    "\n",
    "#Function to pass information to Foursquare API:\n",
    "def get_venues_yelp(latitude, longitude, radius, api_key):\n",
    "    url = f\"https://api.yelp.com/v3/businesses/search?latitude={latitude}&longitude={longitude}&radius={radius}\"\n",
    "    headers = {\"Accept\": \"application/json\", \"Authorization\": f\"Bearer {api_key}\"}\n",
    "    response = requests.get(url, headers=headers)\n",
    "    return response\n",
    "\n",
    "vancouver_location = get_venues_yelp(\n",
    "    latitude = lat, \n",
    "    longitude = long, \n",
    "    radius = 1000,\n",
    "    api_key = yelp_api_key\n",
    ")\n",
    "\n",
    "data = vancouver_location.json()"
   ]
  },
  {
   "cell_type": "markdown",
   "metadata": {},
   "source": [
    "Parse through the response to get the POI (such as restaurants, bars, etc) details you want (ratings, name, location, etc)"
   ]
  },
  {
   "cell_type": "code",
   "execution_count": 15,
   "metadata": {},
   "outputs": [],
   "source": [
    "#Columns were cleaned by dropping irrelevant columns and renaming column names.\n",
    "vancouver_yelp = pd.json_normalize(data['businesses'])\n",
    "\n",
    "vancouver_yelp_col = vancouver_yelp[['id', 'name', 'review_count', 'rating', 'location.display_address']]\n",
    "\n",
    "vancouver_yelp_rename_col = vancouver_yelp_col.rename(columns={\n",
    "    'id': 'yelp_id',\n",
    "    'name': 'yelp_name',\n",
    "    'review_count': 'yelp_review_count',\n",
    "    'rating': 'yelp_rating',\n",
    "    'location.display_address': 'yelp_address'\n",
    "    }\n",
    ")"
   ]
  },
  {
   "cell_type": "markdown",
   "metadata": {},
   "source": [
    "Put your parsed results into a DataFrame"
   ]
  },
  {
   "cell_type": "code",
   "execution_count": 17,
   "metadata": {},
   "outputs": [
    {
     "data": {
      "text/html": [
       "<div>\n",
       "<style scoped>\n",
       "    .dataframe tbody tr th:only-of-type {\n",
       "        vertical-align: middle;\n",
       "    }\n",
       "\n",
       "    .dataframe tbody tr th {\n",
       "        vertical-align: top;\n",
       "    }\n",
       "\n",
       "    .dataframe thead th {\n",
       "        text-align: right;\n",
       "    }\n",
       "</style>\n",
       "<table border=\"1\" class=\"dataframe\">\n",
       "  <thead>\n",
       "    <tr style=\"text-align: right;\">\n",
       "      <th></th>\n",
       "      <th>yelp_id</th>\n",
       "      <th>yelp_name</th>\n",
       "      <th>yelp_review_count</th>\n",
       "      <th>yelp_rating</th>\n",
       "      <th>yelp_address</th>\n",
       "    </tr>\n",
       "  </thead>\n",
       "  <tbody>\n",
       "    <tr>\n",
       "      <th>0</th>\n",
       "      <td>FPP0VvrPrV8RrF6Yye31ig</td>\n",
       "      <td>Chef Hung Taiwanese Beef Noodle</td>\n",
       "      <td>67</td>\n",
       "      <td>2.7</td>\n",
       "      <td>[3313 Shrum Lane, Unit 102, Vancouver, BC V6S ...</td>\n",
       "    </tr>\n",
       "    <tr>\n",
       "      <th>1</th>\n",
       "      <td>oSRxJSXssqOAAVlF1DS0Zg</td>\n",
       "      <td>Doughgirls</td>\n",
       "      <td>63</td>\n",
       "      <td>4.4</td>\n",
       "      <td>[3322 Shrum Lane, Vancouver, BC V6S 0B9, Canada]</td>\n",
       "    </tr>\n",
       "    <tr>\n",
       "      <th>2</th>\n",
       "      <td>uW6NtwN8hxrOLMyPi9IVcA</td>\n",
       "      <td>Neptune  Chinese Kitchen</td>\n",
       "      <td>37</td>\n",
       "      <td>2.9</td>\n",
       "      <td>[3337 Shrum Lane, Vancouver, BC V6S 0C8, Canada]</td>\n",
       "    </tr>\n",
       "    <tr>\n",
       "      <th>3</th>\n",
       "      <td>estK0IAUPgS0bftyYHTXNA</td>\n",
       "      <td>Blenz Coffee</td>\n",
       "      <td>29</td>\n",
       "      <td>3.3</td>\n",
       "      <td>[3381 Wesbrook Mall, Vancouver, BC V6S 0B1, Ca...</td>\n",
       "    </tr>\n",
       "    <tr>\n",
       "      <th>4</th>\n",
       "      <td>W3fcG0C3w-6ARo_5yO4FYQ</td>\n",
       "      <td>Togo Sushi</td>\n",
       "      <td>30</td>\n",
       "      <td>2.3</td>\n",
       "      <td>[3380 Shrum Lane, Vancouver, BC V6T 1W5, Canada]</td>\n",
       "    </tr>\n",
       "  </tbody>\n",
       "</table>\n",
       "</div>"
      ],
      "text/plain": [
       "                  yelp_id                        yelp_name  yelp_review_count  \\\n",
       "0  FPP0VvrPrV8RrF6Yye31ig  Chef Hung Taiwanese Beef Noodle                 67   \n",
       "1  oSRxJSXssqOAAVlF1DS0Zg                       Doughgirls                 63   \n",
       "2  uW6NtwN8hxrOLMyPi9IVcA         Neptune  Chinese Kitchen                 37   \n",
       "3  estK0IAUPgS0bftyYHTXNA                     Blenz Coffee                 29   \n",
       "4  W3fcG0C3w-6ARo_5yO4FYQ                       Togo Sushi                 30   \n",
       "\n",
       "   yelp_rating                                       yelp_address  \n",
       "0          2.7  [3313 Shrum Lane, Unit 102, Vancouver, BC V6S ...  \n",
       "1          4.4   [3322 Shrum Lane, Vancouver, BC V6S 0B9, Canada]  \n",
       "2          2.9   [3337 Shrum Lane, Vancouver, BC V6S 0C8, Canada]  \n",
       "3          3.3  [3381 Wesbrook Mall, Vancouver, BC V6S 0B1, Ca...  \n",
       "4          2.3   [3380 Shrum Lane, Vancouver, BC V6T 1W5, Canada]  "
      ]
     },
     "execution_count": 17,
     "metadata": {},
     "output_type": "execute_result"
    }
   ],
   "source": [
    "vancouver_yelp_rename_col_add = vancouver_yelp_rename_col\n",
    "\n",
    "vancouver_yelp_rename_col_add.head(5)\n",
    "\n",
    "#Save As .csv file - vancouver_yelp_rename_col_add.to_csv(\"..data/vancouver_yelp_locations.csv\")"
   ]
  },
  {
   "cell_type": "code",
   "execution_count": null,
   "metadata": {},
   "outputs": [],
   "source": []
  },
  {
   "cell_type": "markdown",
   "metadata": {},
   "source": [
    "# Comparing Results"
   ]
  },
  {
   "cell_type": "markdown",
   "metadata": {},
   "source": [
    "Which API provided you with more complete data? Provide an explanation. "
   ]
  },
  {
   "cell_type": "markdown",
   "metadata": {},
   "source": [
    "The Yelp API provided more completed data.  Not only did it generate location details, but also, there were additional data on ratings and review counts, which could be variables used later in the statistical modeling portion of the project."
   ]
  },
  {
   "cell_type": "markdown",
   "metadata": {},
   "source": [
    "Get the top 10 restaurants according to their rating"
   ]
  },
  {
   "cell_type": "code",
   "execution_count": 6,
   "metadata": {},
   "outputs": [
    {
     "data": {
      "text/html": [
       "<div>\n",
       "<style scoped>\n",
       "    .dataframe tbody tr th:only-of-type {\n",
       "        vertical-align: middle;\n",
       "    }\n",
       "\n",
       "    .dataframe tbody tr th {\n",
       "        vertical-align: top;\n",
       "    }\n",
       "\n",
       "    .dataframe thead th {\n",
       "        text-align: right;\n",
       "    }\n",
       "</style>\n",
       "<table border=\"1\" class=\"dataframe\">\n",
       "  <thead>\n",
       "    <tr style=\"text-align: right;\">\n",
       "      <th></th>\n",
       "      <th>yelp_name</th>\n",
       "      <th>yelp_rating</th>\n",
       "    </tr>\n",
       "  </thead>\n",
       "  <tbody>\n",
       "    <tr>\n",
       "      <th>19</th>\n",
       "      <td>Sharetea</td>\n",
       "      <td>5.0</td>\n",
       "    </tr>\n",
       "    <tr>\n",
       "      <th>13</th>\n",
       "      <td>Spanish Banks Beach Park</td>\n",
       "      <td>4.7</td>\n",
       "    </tr>\n",
       "    <tr>\n",
       "      <th>9</th>\n",
       "      <td>Bombay Masala Indian Restaurant</td>\n",
       "      <td>4.6</td>\n",
       "    </tr>\n",
       "    <tr>\n",
       "      <th>6</th>\n",
       "      <td>Museum of Anthropology</td>\n",
       "      <td>4.5</td>\n",
       "    </tr>\n",
       "    <tr>\n",
       "      <th>2</th>\n",
       "      <td>Doughgirls</td>\n",
       "      <td>4.4</td>\n",
       "    </tr>\n",
       "    <tr>\n",
       "      <th>5</th>\n",
       "      <td>Rice Burger</td>\n",
       "      <td>4.4</td>\n",
       "    </tr>\n",
       "    <tr>\n",
       "      <th>12</th>\n",
       "      <td>UBC Botanical Garden</td>\n",
       "      <td>4.3</td>\n",
       "    </tr>\n",
       "    <tr>\n",
       "      <th>18</th>\n",
       "      <td>Great Dane Coffee</td>\n",
       "      <td>4.1</td>\n",
       "    </tr>\n",
       "    <tr>\n",
       "      <th>7</th>\n",
       "      <td>Jamjar Canteen</td>\n",
       "      <td>4.0</td>\n",
       "    </tr>\n",
       "    <tr>\n",
       "      <th>3</th>\n",
       "      <td>Burgoo Bistro</td>\n",
       "      <td>3.9</td>\n",
       "    </tr>\n",
       "  </tbody>\n",
       "</table>\n",
       "</div>"
      ],
      "text/plain": [
       "                          yelp_name  yelp_rating\n",
       "19                         Sharetea          5.0\n",
       "13         Spanish Banks Beach Park          4.7\n",
       "9   Bombay Masala Indian Restaurant          4.6\n",
       "6            Museum of Anthropology          4.5\n",
       "2                        Doughgirls          4.4\n",
       "5                       Rice Burger          4.4\n",
       "12             UBC Botanical Garden          4.3\n",
       "18                Great Dane Coffee          4.1\n",
       "7                    Jamjar Canteen          4.0\n",
       "3                     Burgoo Bistro          3.9"
      ]
     },
     "execution_count": 6,
     "metadata": {},
     "output_type": "execute_result"
    }
   ],
   "source": [
    "import pandas as pd\n",
    "\n",
    "df = pd.read_csv(\"../data/vancouver_yelp_locations.csv\")\n",
    "\n",
    "top_10_yelp = df.sort_values(by='yelp_rating', ascending=False)\n",
    "\n",
    "top_10_yelp[['yelp_name', 'yelp_rating']].head(10)"
   ]
  },
  {
   "cell_type": "code",
   "execution_count": null,
   "metadata": {},
   "outputs": [],
   "source": []
  }
 ],
 "metadata": {
  "kernelspec": {
   "display_name": "test_env",
   "language": "python",
   "name": "test_env"
  },
  "language_info": {
   "codemirror_mode": {
    "name": "ipython",
    "version": 3
   },
   "file_extension": ".py",
   "mimetype": "text/x-python",
   "name": "python",
   "nbconvert_exporter": "python",
   "pygments_lexer": "ipython3",
   "version": "3.9.15"
  }
 },
 "nbformat": 4,
 "nbformat_minor": 4
}
